{
 "cells": [
  {
   "cell_type": "code",
   "execution_count": 1,
   "metadata": {},
   "outputs": [],
   "source": [
    "# Bibliotecas a utilizar.\n",
    "from matplotlib import pyplot as plt\n",
    "import cv2 as cv\n",
    "\n",
    "# Imagen a utilizar\n",
    "img = 'test.jpg'"
   ]
  },
  {
   "cell_type": "code",
   "execution_count": 2,
   "metadata": {},
   "outputs": [
    {
     "name": "stdout",
     "output_type": "stream",
     "text": [
      "Color:\n",
      "img_color_alto: 344 \n",
      "img_color_ancho: 612 \n",
      "img_color_canales: 3\n",
      "\n",
      "Grises:\n",
      "img_gray_alto: 344 \n",
      "img_gray_ancho: 612\n"
     ]
    }
   ],
   "source": [
    "# Obtener imagen\n",
    "img_color =  cv.imread(img)\n",
    "img_gray = cv.imread(img, cv.IMREAD_GRAYSCALE)\n",
    "Al1, An1, Can1 = img_color.shape\n",
    "print(\n",
    "        'Color:\\nimg_color_alto:',Al1, \n",
    "        '\\nimg_color_ancho:',An1, \n",
    "        '\\nimg_color_canales:', Can1\n",
    "      )\n",
    "\n",
    "Al2, An2 = img_gray.shape\n",
    "print(\n",
    "        '\\nGrises:\\nimg_gray_alto:',Al2, \n",
    "        '\\nimg_gray_ancho:',An2\n",
    "      )\n"
   ]
  },
  {
   "cell_type": "code",
   "execution_count": 3,
   "metadata": {},
   "outputs": [],
   "source": [
    "# Preview de imagenes cargadas\n",
    "cv.imshow('Imagen a Color', img_color)\n",
    "cv.imshow('Imagen en Grises', img_gray)\n",
    "\n",
    "cv.waitKey(0)\n",
    "cv.destroyAllWindows()"
   ]
  },
  {
   "cell_type": "code",
   "execution_count": 4,
   "metadata": {},
   "outputs": [],
   "source": [
    "# Se sustituira un sector de la imagen con pixeceles blancos\n",
    "sus_img_gray = img_gray\n",
    "sus_img_gray[150:300,150:300] = 255\n",
    "\n",
    "cv.imshow(\"test\",sus_img_gray)\n",
    "cv.waitKey(0)\n",
    "cv.destroyAllWindows()"
   ]
  },
  {
   "cell_type": "code",
   "execution_count": 5,
   "metadata": {},
   "outputs": [
    {
     "ename": "ValueError",
     "evalue": "could not broadcast input array from shape (150,150,3) into shape (150,150)",
     "output_type": "error",
     "traceback": [
      "\u001b[1;31m---------------------------------------------------------------------------\u001b[0m",
      "\u001b[1;31mValueError\u001b[0m                                Traceback (most recent call last)",
      "Cell \u001b[1;32mIn[5], line 8\u001b[0m\n\u001b[0;32m      5\u001b[0m dup_img_gray \u001b[38;5;241m=\u001b[39m img_gray\n\u001b[0;32m      7\u001b[0m area_img_gray \u001b[38;5;241m=\u001b[39m img_color[\u001b[38;5;241m150\u001b[39m:\u001b[38;5;241m300\u001b[39m,\u001b[38;5;241m150\u001b[39m:\u001b[38;5;241m300\u001b[39m]\n\u001b[1;32m----> 8\u001b[0m \u001b[43mdup_img_gray\u001b[49m\u001b[43m[\u001b[49m\u001b[38;5;241;43m150\u001b[39;49m\u001b[43m:\u001b[49m\u001b[38;5;241;43m300\u001b[39;49m\u001b[43m,\u001b[49m\u001b[38;5;241;43m150\u001b[39;49m\u001b[43m:\u001b[49m\u001b[38;5;241;43m300\u001b[39;49m\u001b[43m]\u001b[49m \u001b[38;5;241m=\u001b[39m area_img_gray\n\u001b[0;32m     10\u001b[0m cv\u001b[38;5;241m.\u001b[39mimshow(\u001b[38;5;124m\"\u001b[39m\u001b[38;5;124mtest\u001b[39m\u001b[38;5;124m\"\u001b[39m,dup_img_gray)\n\u001b[0;32m     11\u001b[0m cv\u001b[38;5;241m.\u001b[39mwaitKey(\u001b[38;5;241m0\u001b[39m)\n",
      "\u001b[1;31mValueError\u001b[0m: could not broadcast input array from shape (150,150,3) into shape (150,150)"
     ]
    }
   ],
   "source": [
    "# En el supuesto que podia sustituir los valores de pixeles con asignacion como en el ejemplo anterior\n",
    "# Intentaremos sustituir una sección de una imagen por otra (Una BGR y otra GrayScale)\n",
    "\n",
    "dup_img_color = img_color\n",
    "dup_img_gray = img_gray\n",
    "\n",
    "area_img_gray = img_color[150:300,150:300]\n",
    "dup_img_gray[150:300,150:300] = area_img_gray\n",
    "\n",
    "cv.imshow(\"test\",dup_img_gray)\n",
    "cv.waitKey(0)\n",
    "cv.destroyAllWindows()\n",
    "\n",
    "# Este codigo devuelve un error\n",
    "# ValueError: could not broadcast input array from shape (150,150,3) into shape (150,150)\n",
    "# Este error se genera debido a que la asignacion de valores es diferentes, en el caso de \n",
    "# la escala de grises solo tienen un unico canal que marca la intensidad y el de color tiene tres canales."
   ]
  }
 ],
 "metadata": {
  "kernelspec": {
   "display_name": "Python 3",
   "language": "python",
   "name": "python3"
  },
  "language_info": {
   "codemirror_mode": {
    "name": "ipython",
    "version": 3
   },
   "file_extension": ".py",
   "mimetype": "text/x-python",
   "name": "python",
   "nbconvert_exporter": "python",
   "pygments_lexer": "ipython3",
   "version": "3.12.4"
  }
 },
 "nbformat": 4,
 "nbformat_minor": 2
}
