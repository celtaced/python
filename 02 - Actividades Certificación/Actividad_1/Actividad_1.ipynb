{
 "cells": [
  {
   "cell_type": "markdown",
   "metadata": {},
   "source": [
    "## Ejercicio 1\n",
    "\n",
    "Completa la siguiente función para que dado un número de documento nacional de identidad (DNI), se devuelva una letra. Esta letra se obtiene calculando el resto del DNI entre 23 y a partir de ese valor asignarle una letra de la siguiente tabla:\n",
    "\n",
    "![Tabla letras de control DNI](img/letras.png)\n",
    "\n",
    "El valor DNI será un número entero y la letra debe ser una cadena de carateres que contendrá una única letra en mayúsculas."
   ]
  },
  {
   "cell_type": "code",
   "execution_count": 20,
   "metadata": {},
   "outputs": [
    {
     "name": "stdout",
     "output_type": "stream",
     "text": [
      "[0, 1, 2, 3, 4, 5, 6, 7, 8, 9, 10, 11, 12, 13, 14, 15, 16, 17, 18, 19, 20, 21, 22]\n",
      "['T', 'R', 'W', 'A', 'G', 'M', 'Y', 'F', 'P', 'D', 'X', 'B', 'N', 'J', 'Z', 'S', 'Q', 'V', 'H', 'L', 'C', 'K', 'E']\n"
     ]
    }
   ],
   "source": [
    "def ejercicio_1(dni):\n",
    "    # Escribe aquí el código del ejercicio\n",
    "    RestoLetra = {0:'T',1:'R',2:'W',3:'A',4:'G',5:'M',6:'Y',7:'F',8:'P',9:'D',10:'X',11:'B',12:'N',13:'J',14:'Z',15:'S',16:'Q',17:'V',18:'H',19:'L',20:'C',21:'K',22:'E'}\n",
    "    for i in RestoLetra:\n",
    "        if dni % 23 == i:\n",
    "            letra = RestoLetra[i]\n",
    "            break\n",
    "    return letra\n",
    "\n",
    "a = []\n",
    "b = []\n",
    "for i in range(0,23):\n",
    "    a.append(i % 23)\n",
    "    b.append(ejercicio_1(i))\n",
    "print(a)\n",
    "print(b)"
   ]
  },
  {
   "cell_type": "markdown",
   "metadata": {},
   "source": [
    "## Ejercicio 2\n",
    "\n",
    "Completa la siguiente función para que dado el precio de un producto, se calcule y se devuelva el precio total que debe pagar el cliente, es decir, incluyenfo el IVA (21% sobre el precio del producto). El precio total deberá ser únicamente el valor del precio, es decir, no debe contener el símbolo de la moneda. Redondee la salida al segundo decimal en caso necesario.\n"
   ]
  },
  {
   "cell_type": "code",
   "execution_count": 3,
   "metadata": {},
   "outputs": [
    {
     "name": "stdout",
     "output_type": "stream",
     "text": [
      "12.1\n",
      "13.31\n",
      "14.52\n",
      "15.73\n",
      "16.94\n",
      "18.15\n",
      "19.36\n",
      "20.57\n",
      "21.78\n",
      "22.99\n",
      "24.2\n",
      "25.41\n",
      "26.62\n",
      "27.83\n",
      "29.04\n",
      "30.25\n",
      "31.46\n",
      "32.67\n",
      "33.88\n",
      "35.09\n"
     ]
    }
   ],
   "source": [
    "def ejercicio_2(precio):\n",
    "    # Escribe aquí el código del ejercicio\n",
    "    precio_total = round(precio * 1.21,2)\n",
    "    return precio_total\n",
    "\n",
    "for i in range (10,30):\n",
    "    print(ejercicio_2(i))"
   ]
  },
  {
   "cell_type": "markdown",
   "metadata": {},
   "source": [
    "## Ejercicio 3\n",
    "\n",
    "Completa la siguiente función para que dado el diámetro de una circunferencia, se calcule el área del círculo que contiene dicha circunferencia. Como valor de PI se usará $3.1415$."
   ]
  },
  {
   "cell_type": "code",
   "execution_count": 10,
   "metadata": {},
   "outputs": [
    {
     "name": "stdout",
     "output_type": "stream",
     "text": [
      "1 0.7854\n",
      "2 3.1416\n",
      "3 7.0686\n",
      "4 12.5664\n",
      "5 19.634999999999998\n",
      "6 28.2744\n",
      "7 38.4846\n",
      "8 50.2656\n",
      "9 63.617399999999996\n",
      "10 78.53999999999999\n"
     ]
    }
   ],
   "source": [
    "def ejercicio_3(diametro):\n",
    "    # Escribe aquí el código del ejercicio\n",
    "    area = 3.1415 * ((diametro / 2)**2)\n",
    "    return area\n",
    "\n",
    "for i in range (1,11):\n",
    "    print(i, ejercicio_3(i))"
   ]
  },
  {
   "cell_type": "markdown",
   "metadata": {},
   "source": [
    "## Ejercicio 4\n",
    "\n",
    "Completar la función para que dado dos números entéros <n> y <m> dos números enteros, se calcula el cociente y el resto de hacer la división entera entre n y m."
   ]
  },
  {
   "cell_type": "code",
   "execution_count": 9,
   "metadata": {},
   "outputs": [
    {
     "name": "stdout",
     "output_type": "stream",
     "text": [
      "1 3 (3, 0)\n",
      "2 4 (3, 0)\n",
      "3 5 (3, 0)\n",
      "4 6 (3, 0)\n"
     ]
    }
   ],
   "source": [
    "def ejercicio_4(n, m):\n",
    "    # Escribe tu programa aquí\n",
    "    cociente = n // m\n",
    "    resto = n % m\n",
    "    return cociente, resto\n",
    "\n",
    "for i in range (1,5):\n",
    "    print(i, i+2, ejercicio_4(27, 9))"
   ]
  },
  {
   "cell_type": "markdown",
   "metadata": {},
   "source": [
    "## Ejercicio 5\n",
    "\n",
    "Completar la función para que dado el número de unidades que ha comprado un usuario de 2 productos diferentes, devolver el peso total del paquete para enviar su compra por mensajería. El peso de cada unidad del producto1 es de 147 unidades y el peso de cada unidad del producto2 es de 2400 unidades. La función debe devolver únicamente el peso total."
   ]
  },
  {
   "cell_type": "code",
   "execution_count": 39,
   "metadata": {},
   "outputs": [
    {
     "name": "stdout",
     "output_type": "stream",
     "text": [
      "5 3 7935\n",
      "6 4 10482\n",
      "7 5 13029\n",
      "8 6 15576\n",
      "9 7 18123\n",
      "10 8 20670\n",
      "11 9 23217\n",
      "12 10 25764\n",
      "13 11 28311\n",
      "14 12 30858\n"
     ]
    }
   ],
   "source": [
    "def ejercicio_5(producto1, producto2):\n",
    "    # Escribe tu programa aquí\n",
    "    peso_total = (producto1 * 147) + (producto2 * 2400)\n",
    "    return peso_total\n",
    "\n",
    "for i in range (5,15):\n",
    "    print(i, i-2, ejercicio_5(i, i-2))"
   ]
  }
 ],
 "metadata": {
  "kernelspec": {
   "display_name": "Python 3",
   "language": "python",
   "name": "python3"
  },
  "language_info": {
   "codemirror_mode": {
    "name": "ipython",
    "version": 3
   },
   "file_extension": ".py",
   "mimetype": "text/x-python",
   "name": "python",
   "nbconvert_exporter": "python",
   "pygments_lexer": "ipython3",
   "version": "3.12.4"
  }
 },
 "nbformat": 4,
 "nbformat_minor": 4
}
