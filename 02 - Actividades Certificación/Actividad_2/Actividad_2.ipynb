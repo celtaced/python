{
 "cells": [
  {
   "cell_type": "markdown",
   "metadata": {},
   "source": [
    "## Ejercicio 1\n",
    "\n",
    "Escribe una función llamada ejercicio1 que genere una lista con 15 valores enteros aleatorios que vayan de 1 a 100. La función debe devolver la lista con todos los valores.\n"
   ]
  },
  {
   "cell_type": "code",
   "execution_count": 4,
   "metadata": {},
   "outputs": [
    {
     "name": "stdout",
     "output_type": "stream",
     "text": [
      "[87, 97, 42, 42, 84, 34, 45, 100, 33, 18, 5, 55, 44, 54, 98]\n"
     ]
    }
   ],
   "source": [
    "import random\n",
    "\n",
    "def ejercicio1():\n",
    "    a = []\n",
    "    for i in range(15):\n",
    "        a.append(random.randint(1,100))\n",
    "    return a   \n",
    "    \n",
    "\n",
    "print(ejercicio1())"
   ]
  },
  {
   "cell_type": "markdown",
   "metadata": {},
   "source": [
    "## Ejercicio 2\n",
    "\n",
    "Escribe una función llamada ejercicio2 que recibe 2 argumentos: el primero será la lista que hemos implementado en el Ejercicio 1 y el segundo un número por el que se dividirá cada uno de los elementos de la lista. El resultado será una nueva lista."
   ]
  },
  {
   "cell_type": "code",
   "execution_count": 6,
   "metadata": {},
   "outputs": [
    {
     "name": "stdout",
     "output_type": "stream",
     "text": [
      "[15.333333333333334, 30.666666666666668, 11.333333333333334, 18.0, 20.333333333333332, 15.333333333333334, 11.333333333333334, 19.333333333333332, 6.0, 18.666666666666668, 13.333333333333334, 27.0, 30.666666666666668, 9.333333333333334, 7.666666666666667]\n"
     ]
    }
   ],
   "source": [
    "def ejercicio2(ax,bx):\n",
    "    b = [x / bx for x in ax]\n",
    "    return b\n",
    "\n",
    "print(ejercicio2(ejercicio1(),3))"
   ]
  },
  {
   "cell_type": "markdown",
   "metadata": {},
   "source": [
    "## Ejercicio 3\n",
    "\n",
    "Usando funciones anónimas, crea una nueva lista que contenga los valores enteros de cada uno de los elementos de la lista que devuelve la función implementada en el Ejercicio 2."
   ]
  },
  {
   "cell_type": "code",
   "execution_count": 8,
   "metadata": {},
   "outputs": [
    {
     "name": "stdout",
     "output_type": "stream",
     "text": [
      "[27, 29, 23, 16, 16, 11, 12, 18, 29, 15, 12, 30, 25, 15, 30]\n"
     ]
    }
   ],
   "source": [
    "def ejercicio3(ax):\n",
    "    return list(map(lambda x: int(x), ax ))\n",
    "\n",
    "print(ejercicio3(ejercicio2(ejercicio1(),3)))"
   ]
  },
  {
   "cell_type": "markdown",
   "metadata": {},
   "source": [
    "## Ejercicio 4\n",
    "\n",
    "Implementa una función, llamada ejercicio4, que reciba como argumentos dos números enteros y devuelva en una tupla los siguientes valores: el factorial del primer argumento y el máximo común divisor de ambos argumentos."
   ]
  },
  {
   "cell_type": "code",
   "execution_count": 33,
   "metadata": {},
   "outputs": [
    {
     "name": "stdout",
     "output_type": "stream",
     "text": [
      "(120, 5)\n"
     ]
    }
   ],
   "source": [
    "import math as m\n",
    "def ejercicio4(a, b): \n",
    "    f = m.factorial(a) \n",
    "    mcd = m.gcd(a, b)\n",
    "    return (f, mcd) \n",
    " \n",
    "print(ejercicio4(5, 15))"
   ]
  },
  {
   "cell_type": "markdown",
   "metadata": {},
   "source": [
    "## Ejercicio 5\n",
    "\n",
    "Crea una función ejercicio5 que devuelva una lista con todos los valores contenidos en una lista que se pasa por argumento pero eliminando los valores repetidos. Prueba el funcionamiento de esta función con la lista obtenida en el Ejercicio 1."
   ]
  },
  {
   "cell_type": "code",
   "execution_count": 34,
   "metadata": {},
   "outputs": [
    {
     "name": "stdout",
     "output_type": "stream",
     "text": [
      "[1, 2, 3, 4, 5]\n"
     ]
    }
   ],
   "source": [
    "def ejercicio5(lista):\n",
    "    return list(set(lista))\n",
    "\n",
    "\n",
    "mi_lista = [1, 2, 2, 3, 4, 4, 5]\n",
    "print(ejercicio5(mi_lista))\n"
   ]
  }
 ],
 "metadata": {
  "kernelspec": {
   "display_name": "Python 3",
   "language": "python",
   "name": "python3"
  },
  "language_info": {
   "codemirror_mode": {
    "name": "ipython",
    "version": 3
   },
   "file_extension": ".py",
   "mimetype": "text/x-python",
   "name": "python",
   "nbconvert_exporter": "python",
   "pygments_lexer": "ipython3",
   "version": "3.12.4"
  }
 },
 "nbformat": 4,
 "nbformat_minor": 2
}
