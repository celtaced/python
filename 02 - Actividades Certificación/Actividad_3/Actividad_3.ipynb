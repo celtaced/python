{
 "cells": [
  {
   "cell_type": "markdown",
   "metadata": {},
   "source": [
    "En la siguiente celda, completa los siguientes ejercicios:\n",
    "\n",
    "## Ejercicio 1\n",
    "\n",
    "Escribe una clase llamada Numero. Esta clase debe tener una constructora que reciba un número y almacene ese número en 2 atributos: romano que almacenará el número en el formato de número romanos como una cadena de caracteres y normal que guardará el número que nos han dado en la constructora.\n",
    "\n",
    "## Ejercicio 2\n",
    "Crea dos nuevos métodos en la clase Numero. El primer método, llamado imprime() imprime un mensaje mostrando el valor de ambos atributos; el segundo atributo, suma_romano() tendrá como parámetros una cadena de caracteres que representará otro número romano y que sumaremos a los atributos que ya teníamos.\n",
    "\n",
    "## Ejercicio 3\n",
    "\n",
    "Define una función dentro de la clase Numero que a partir de una cadena de caracteres, devuelve True si esa cadena de caracteres corresponde con un número romano y falso en caso contrario. Después, modifica el método para que lance un error en el caso de que el valor que nos pasan por parámetro no se corresponde con el patrón de un número romano"
   ]
  },
  {
   "cell_type": "code",
   "execution_count": 13,
   "metadata": {},
   "outputs": [
    {
     "name": "stdout",
     "output_type": "stream",
     "text": [
      "1672 MDCLXXII\n",
      "1692 MDCXCII\n"
     ]
    }
   ],
   "source": [
    "from collections import OrderedDict\n",
    "\n",
    "class Numero:    \n",
    "    normal = 0    \n",
    "    romano = ''\n",
    "\n",
    "    def __init__ (self, numEntero):\n",
    "        self.romano = self.convertir_romano(numEntero)\n",
    "        self.normal = numEntero    \n",
    "\n",
    "    def imprime(self):\n",
    "        print (self.normal , self.romano)    \n",
    "            \n",
    "    def suma_romano(self, valorNum): \n",
    "        try:      \n",
    "            numeroNuevo = self.revertir_romano(valorNum)\n",
    "            total = self.normal + numeroNuevo\n",
    "            self.normal = total\n",
    "            self.romano = self.convertir_romano(total)\n",
    "        except TypeError:\n",
    "            return 'Ingrese un numero romano'\n",
    "        except: \n",
    "            'Error'\n",
    "\n",
    "    def revertir_romano(self, valorNuevoRomano):\n",
    "        try:\n",
    "            roman_dict = {'I': 1, 'V': 5, 'X': 10, 'L': 50, 'C': 100, 'D': 500, 'M': 1000, 'IV': 4, 'IX': 9, 'XL': 40, 'XC': 90, 'CD': 400, 'CM': 900}\n",
    "            \n",
    "            i = 0\n",
    "            num = 0\n",
    "            \n",
    "            while i < len(valorNuevoRomano):\n",
    "                if i + 1 < len(valorNuevoRomano) and valorNuevoRomano[i:i+2] in roman_dict:\n",
    "                    num += roman_dict[valorNuevoRomano[i:i+2]]\n",
    "                    i += 2\n",
    "                else:\n",
    "                    num += roman_dict[valorNuevoRomano[i]]\n",
    "                    i += 1\n",
    "                    \n",
    "            return num\n",
    "        except:\n",
    "            return None\n",
    "    \n",
    "    def convertir_romano(self, num):\n",
    "        val = [1000, 900, 500, 400, 100, 90, 50, 40, 10, 9, 5, 4, 1]\n",
    "        syb = [\"M\", \"CM\", \"D\", \"CD\", \"C\", \"XC\", \"L\", \"XL\", \"X\", \"IX\", \"V\", \"IV\", \"I\"]\n",
    "        roman_num = ''\n",
    "        i = 0\n",
    "        while num > 0:\n",
    "            for _ in range(num // val[i]):\n",
    "                roman_num += syb[i]\n",
    "                num -= val[i]\n",
    "            i += 1\n",
    "        return roman_num\n",
    "    \n",
    "    def is_romano(self, valorNumero):\n",
    "        if(self.revertir_romano(valorNumero) is None):\n",
    "            return False\n",
    "        else:\n",
    "            return True\n",
    "\n",
    "MiPrueba = Numero(1672)\n",
    "MiPrueba.imprime()\n",
    "MiPrueba.suma_romano('XX')\n",
    "MiPrueba.imprime()\n"
   ]
  },
  {
   "cell_type": "markdown",
   "metadata": {},
   "source": [
    "En la siguiente celda, completa los siguientes ejercicios:\n",
    "\n",
    "## Ejercicio 4\n",
    "\n",
    "Implementa una clase MejorNumero. Esta clase heredará las propiedades de Numero e incluirá dos métodos nuevos para restar y multiplicar los atributos recibiendo por parámetro otro número romano.\n",
    "\n",
    "## Ejercicio 5\n",
    "\n",
    "En la clase MejorNumero, crea un nuevo método que reciba una lista con 3 números romanos. A continuación, iterando sobre los elementos de la lista llamará a la función suma_romano(). Los posibles errores se tendrán que gestionar con excepciones para mostrar un mensaje y seguir ejecutando el siguiente número."
   ]
  },
  {
   "cell_type": "code",
   "execution_count": 30,
   "metadata": {},
   "outputs": [
    {
     "name": "stdout",
     "output_type": "stream",
     "text": [
      "IV\n"
     ]
    }
   ],
   "source": [
    "class MejorNumero(Numero):\n",
    "    valNumResta = 0\n",
    "    \n",
    "    def __init__ (self, numEntero):\n",
    "        Numero.__init__(self, numEntero)\n",
    "    \n",
    "    def resta(self, numNuevo):\n",
    "        self.valNumResta = Numero.revertir_romano(self, numNuevo)\n",
    "        totalresta = self.normal - self.valNumResta\n",
    "        self.valNumResta = totalresta\n",
    "        print(Numero.convertir_romano(self, totalresta))\n",
    "        \n",
    "    def multiplica(self, numNuevo):\n",
    "        valNum = Numero.revertir_romano(self, numNuevo)\n",
    "        totalMultiplicacion = self.valNumResta * valNum\n",
    "        print(Numero.convertir_romano(self, totalMultiplicacion))\n",
    "\n",
    "    def iterar(self, listaNumeros):\n",
    "            for item in listaNumeros[::1]:\n",
    "                if(Numero.is_romano(self, item)):\n",
    "                    self.normal = Numero.revertir_romano(self, item) + self.normal\n",
    "                    self.romano = Numero.convertir_romano(self, self.normal)\n",
    "                else:\n",
    "                    print (\"Ha fallado el número\", item)\n",
    "\n",
    "OtraPrueba = MejorNumero(5)\n",
    "OtraPrueba.resta('I')"
   ]
  }
 ],
 "metadata": {
  "kernelspec": {
   "display_name": "Python 3",
   "language": "python",
   "name": "python3"
  },
  "language_info": {
   "codemirror_mode": {
    "name": "ipython",
    "version": 3
   },
   "file_extension": ".py",
   "mimetype": "text/x-python",
   "name": "python",
   "nbconvert_exporter": "python",
   "pygments_lexer": "ipython3",
   "version": "3.12.4"
  }
 },
 "nbformat": 4,
 "nbformat_minor": 2
}
